{
 "cells": [
  {
   "cell_type": "code",
   "execution_count": 1,
   "metadata": {},
   "outputs": [],
   "source": [
    "from sklearn.ensemble import RandomForestRegressor\n",
    "from sklearn.tree import plot_tree, export_text\n",
    "from sklearn.model_selection import train_test_split\n",
    "from sklearn.metrics import accuracy_score\n",
    "from sklearn.datasets import make_blobs\n",
    "from datetime import datetime\n",
    "import time\n",
    "import math\n",
    "import matplotlib.pyplot as plt\n",
    "from sklearn.metrics import mean_absolute_error\n",
    "\n",
    "import numpy as np\n",
    "import pandas as pd\n"
   ]
  },
  {
   "cell_type": "code",
   "execution_count": 2,
   "metadata": {},
   "outputs": [],
   "source": [
    "def create_sequences_no_culling(df, past_hours=5):\n",
    "    X, y = [], []\n",
    "    \n",
    "    for i in range(past_hours, len(df) - 1):\n",
    "        past_data = df.iloc[i-past_hours : (i+1)].values[::-1]\n",
    "     \n",
    "        \n",
    "\n",
    "        target_value = df.iloc[(i + 1)][\"temp change\"]  # Target variable\n",
    "        \n",
    "        X.append(past_data)\n",
    "        y.append(target_value)\n",
    "    \n",
    "    return np.array(X), np.array(y)\n",
    "\n",
    "\n",
    "\n",
    "def create_sequences(df, past_hours=5):\n",
    "    X, y = [], []\n",
    "    \n",
    "    for i in range(past_hours, len(df) - 1):\n",
    "        past_data = df.iloc[i-past_hours : (i+1)].values[::-1]\n",
    "        \n",
    "        # change the dat to hour\n",
    "        date = pd.to_datetime(past_data[0][0])\n",
    "        hour = date.hour\n",
    "        past_data[0][0] = hour\n",
    "        \n",
    "        \n",
    "        past_data = past_data.flatten()\n",
    "        \n",
    "        # remove the other date and times\n",
    "\n",
    "        for j in range(1, past_hours+1):\n",
    "            idx = j * 12 - (j - 1)\n",
    "            past_data = np.delete(past_data, idx)\n",
    "        \n",
    "\n",
    "        target_value = df.iloc[(i + 1)][\"temp change\"]  # Target variable\n",
    "        \n",
    "        X.append(past_data)\n",
    "        y.append(target_value)\n",
    "    \n",
    "    return np.array(X), np.array(y)\n",
    "\n",
    "\n",
    "weather_data = pd.read_csv('../weather.csv')\n"
   ]
  },
  {
   "cell_type": "code",
   "execution_count": 3,
   "metadata": {},
   "outputs": [],
   "source": [
    "X_full, y_full = create_sequences_no_culling(weather_data, 5)"
   ]
  },
  {
   "cell_type": "code",
   "execution_count": 4,
   "metadata": {},
   "outputs": [],
   "source": [
    "# create data based on 5 past hours\n",
    "X, y = create_sequences(weather_data, 5)"
   ]
  },
  {
   "cell_type": "code",
   "execution_count": 5,
   "metadata": {},
   "outputs": [
    {
     "name": "stdout",
     "output_type": "stream",
     "text": [
      "[['2013-07-09 13:00' 21.0 13.3 61 12 20 48.3 101.63 0 0 1 0.0]\n",
      " ['2013-07-09 12:00' 21.0 13.6 62 12 13 48.3 101.67 0 0 55 0.8]\n",
      " ['2013-07-09 11:00' 20.2 13.7 66 13 14 48.3 101.71 0 0 55 2.8]\n",
      " ['2013-07-09 08:00' 17.4 13.2 76 12 7 48.3 101.77 0 0 55 1.2]\n",
      " ['2013-07-09 07:00' 16.2 13.0 81 11 5 32.2 101.75 0 0 1 1.0]\n",
      " ['2013-07-09 06:00' 15.2 13.4 89 0 0 32.2 101.74 0 0 55 0.0]]\n",
      "1.5\n",
      "[13 21.0 13.3 61 12 20 48.3 101.63 0 0 1 0.0 21.0 13.6 62 12 13 48.3\n",
      " 101.67 0 0 55 0.8 20.2 13.7 66 13 14 48.3 101.71 0 0 55 2.8 17.4 13.2 76\n",
      " 12 7 48.3 101.77 0 0 55 1.2 16.2 13.0 81 11 5 32.2 101.75 0 0 1 1.0 15.2\n",
      " 13.4 89 0 0 32.2 101.74 0 0 55 0.0]\n",
      "1.5\n",
      "[14 22.5 13.2 55 13 19 48.3 101.56 25 0 55 1.5 21.0 13.3 61 12 20 48.3\n",
      " 101.63 0 0 1 0.0 21.0 13.6 62 12 13 48.3 101.67 0 0 55 0.8 20.2 13.7 66\n",
      " 13 14 48.3 101.71 0 0 55 2.8 17.4 13.2 76 12 7 48.3 101.77 0 0 55 1.2\n",
      " 16.2 13.0 81 11 5 32.2 101.75 0 0 1 1.0]\n",
      "-0.4\n"
     ]
    }
   ],
   "source": [
    "# for the first X and y\n",
    "\n",
    "print(X_full[0])\n",
    "print(y_full[0])\n",
    "\n",
    "print(X[0])\n",
    "print(y[0])\n",
    "\n",
    "print(X[1])\n",
    "print(y[1])"
   ]
  },
  {
   "cell_type": "markdown",
   "metadata": {},
   "source": [
    "## Training a random forest based on our data\n"
   ]
  },
  {
   "cell_type": "code",
   "execution_count": 6,
   "metadata": {},
   "outputs": [],
   "source": [
    "\n",
    "def train_and_test_model(X, y, n_estimators=20):\n",
    "\n",
    "    X_train, X_test, y_train, y_test = train_test_split(X, y, test_size=0.2, random_state=42)\n",
    "\n",
    "    model = RandomForestRegressor(n_estimators=n_estimators, random_state=42)\n",
    "    model.fit(X_train, y_train)\n",
    "\n",
    "    y_pred = model.predict(X_test)\n",
    "\n",
    "    # Step 5: Evaluate the model\n",
    "    mae = mean_absolute_error(y_test, y_pred)\n",
    "\n",
    "    print(f\"Mean Absolute Error: {mae:.4f}\")\n",
    "\n",
    "    # Show a few predicted values vs actual values\n",
    "    return mae\n",
    "    \n",
    "\n"
   ]
  },
  {
   "cell_type": "code",
   "execution_count": 7,
   "metadata": {},
   "outputs": [
    {
     "name": "stdout",
     "output_type": "stream",
     "text": [
      "Mean Absolute Error: 0.5917\n",
      "Mean Absolute Error: 0.5822\n",
      "Mean Absolute Error: 0.5794\n",
      "Mean Absolute Error: 0.5776\n",
      "Mean Absolute Error: 0.5772\n"
     ]
    }
   ],
   "source": [
    "accuracy_scores = []\n",
    "n_enumerations = []\n",
    "\n",
    "for i in range(1, 6):\n",
    "    accuracy_scores.append(train_and_test_model(X, y, i*20))\n",
    "    n_enumerations.append(i*20)\n"
   ]
  },
  {
   "cell_type": "code",
   "execution_count": 9,
   "metadata": {},
   "outputs": [
    {
     "data": {
      "image/png": "[encoded data removed]",
      "text/plain": [
       "<Figure size 640x480 with 1 Axes>"
      ]
     },
     "metadata": {},
     "output_type": "display_data"
    }
   ],
   "source": [
    "plt.plot(n_enumerations, accuracy_scores, linestyle=\"-\", label=\"test\")\n",
    "plt.xlabel(\"num iterations\")\n",
    "plt.ylabel(\"error\")\n",
    "plt.show()\n",
    "plt.close()\n",
    "    "
   ]
  }
 ],
 "metadata": {
  "kernelspec": {
   "display_name": "Python 3",
   "language": "python",
   "name": "python3"
  },
  "language_info": {
   "codemirror_mode": {
    "name": "ipython",
    "version": 3
   },
   "file_extension": ".py",
   "mimetype": "text/x-python",
   "name": "python",
   "nbconvert_exporter": "python",
   "pygments_lexer": "ipython3",
   "version": "3.12.6"
  }
 },
 "nbformat": 4,
 "nbformat_minor": 2
}
