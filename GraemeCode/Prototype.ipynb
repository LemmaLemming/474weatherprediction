{
 "cells": [
  {
   "cell_type": "markdown",
   "metadata": {},
   "source": [
    "# Formatting the Data"
   ]
  },
  {
   "cell_type": "code",
   "execution_count": 13,
   "metadata": {},
   "outputs": [],
   "source": [
    "from sklearn.tree import DecisionTreeClassifier\n",
    "from sklearn.tree import DecisionTreeRegressor\n",
    "from sklearn.tree import plot_tree, export_text\n",
    "from sklearn.model_selection import train_test_split\n",
    "from sklearn.metrics import accuracy_score\n",
    "from sklearn.datasets import make_blobs\n",
    "from datetime import datetime\n",
    "import time\n",
    "import math\n",
    "import matplotlib.pyplot as plt\n",
    "\n",
    "import numpy as np\n",
    "import pandas as pd\n"
   ]
  },
  {
   "cell_type": "code",
   "execution_count": null,
   "metadata": {},
   "outputs": [
    {
     "name": "stdout",
     "output_type": "stream",
     "text": [
      "amount of rain for each day\n",
      "day: 1: 2.9\n",
      "day: 2: 4.0\n",
      "day: 3: 2.3\n",
      "day: 4: 2.8\n",
      "day: 5: 1.3\n",
      "day: 6: 0.7\n",
      "day: 7: 1.0\n",
      "day: 8: 1.2\n",
      "day: 9: 3.0\n",
      "day: 10: 1.6\n",
      "day: 11: 2.2\n",
      "day: 12: 0.9\n",
      "day: 13: 1.7\n",
      "day: 14: 0.9\n",
      "day: 15: 0.6\n",
      "day: 16: 2.0\n",
      "day: 17: 2.7\n",
      "day: 18: 1.2\n",
      "day: 19: 4.3\n",
      "day: 20: 1.3\n",
      "day: 21: 2.4\n",
      "day: 22: 2.6\n",
      "day: 23: 2.2\n",
      "day: 24: 4.4\n",
      "day: 25: 2.8\n",
      "day: 26: 3.0\n",
      "day: 27: 2.7\n"
     ]
    },
    {
     "name": "stderr",
     "output_type": "stream",
     "text": [
      "c:\\Users\\graem\\AppData\\Local\\Programs\\Python\\Python312\\Lib\\site-packages\\sklearn\\base.py:493: UserWarning: X does not have valid feature names, but DecisionTreeRegressor was fitted with feature names\n",
      "  warnings.warn(\n"
     ]
    }
   ],
   "source": [
    "\n",
    "# training on 2 years\n",
    "chunksize = 620 # For example, read 10,000 rows at a time\n",
    "is_first_chunk = True\n",
    "\n",
    "\n",
    "def train_model_on_chunk(chunk, model):\n",
    "    \n",
    "    # convert X into day of the month\n",
    "    X = weather_data['date']\n",
    "    X =  pd.to_datetime(X)\n",
    "    X = X.dt.day\n",
    "    X = pd.DataFrame(X)\n",
    "\n",
    "    # y is the amount of rain for each day\n",
    "    y = weather_data['rain']\n",
    "    \n",
    "    X_train, X_test, y_train, y_test = train_test_split(X, y, test_size=0.2)\n",
    "    \n",
    "    # clean any NAN values from y so that it does not brake the model\n",
    "    X_train_clean = X_train[~y_train.isna()]\n",
    "    y_train_clean = y_train.dropna()\n",
    "    \n",
    "\n",
    "    model.fit(X_train_clean, y_train_clean)\n",
    "\n",
    "    return model\n",
    "\n",
    "   \n",
    "model = DecisionTreeRegressor(random_state=42)\n",
    "\n",
    "\n",
    "for weather_data in pd.read_csv('weatherstats_victoria_daily.csv', chunksize=chunksize):\n",
    "    model = train_model_on_chunk(weather_data, model)\n",
    "    break\n",
    "\n",
    "\n",
    "# predict the amount of rain for each day of the month\n",
    "# and output the values\n",
    "days_of_month = pd.Series(list(range(1, 28)))\n",
    "testing_data = pd.DataFrame(days_of_month)\n",
    "predictions = model.predict(testing_data)\n",
    "\n",
    "\n",
    "print(\"amount of rain for each day\")\n",
    "for i in range(len(predictions)):\n",
    "    print(\"day: \" + str(i+1) + \": \" + str(round(predictions[i], 1)))\n",
    "\n",
    "    \n",
    "\n"
   ]
  }
 ],
 "metadata": {
  "kernelspec": {
   "display_name": "Python 3",
   "language": "python",
   "name": "python3"
  },
  "language_info": {
   "codemirror_mode": {
    "name": "ipython",
    "version": 3
   },
   "file_extension": ".py",
   "mimetype": "text/x-python",
   "name": "python",
   "nbconvert_exporter": "python",
   "pygments_lexer": "ipython3",
   "version": "3.12.6"
  }
 },
 "nbformat": 4,
 "nbformat_minor": 2
}
